{
 "cells": [
  {
   "cell_type": "markdown",
   "metadata": {
    "deletable": true,
    "editable": true
   },
   "source": [
    "# Лабораторная работа по вычислительной математике"
   ]
  },
  {
   "cell_type": "markdown",
   "metadata": {
    "deletable": true,
    "editable": true
   },
   "source": [
    "    Потапов Анатолий 4115"
   ]
  },
  {
   "cell_type": "markdown",
   "metadata": {
    "deletable": true,
    "editable": true
   },
   "source": [
    "# Это - ноутбук с octave kernel"
   ]
  },
  {
   "cell_type": "markdown",
   "metadata": {
    "deletable": true,
    "editable": true
   },
   "source": [
    "Octave provides lsode for solving differential equations.  For more\n",
    "information try 'help lsode'.  Matlab-compatible ODE functions are\n",
    "provided by the odepkg package.  See\n",
    "<http://octave.sourceforge.net/odepkg/>."
   ]
  },
  {
   "cell_type": "code",
   "execution_count": null,
   "metadata": {
    "collapsed": false,
    "deletable": true,
    "editable": true
   },
   "outputs": [],
   "source": [
    "pkg install odepkg-0.8.5.tar.gz"
   ]
  },
  {
   "cell_type": "markdown",
   "metadata": {
    "deletable": true,
    "editable": true
   },
   "source": [
    "Одномерное уравнение теплопроводности (диффузии) с постоянным коэффициентом теплопроводности можно записать в виде:\n",
    "\n",
    "$$\n",
    "\\frac{\\partial u}{ \\partial t} = a \\frac{\\partial^2 u}{\\partial x^2} + f(x,t),\n",
    "$$\n",
    "\n",
    "где a>0 - коэффициент теплопроводности."
   ]
  },
  {
   "cell_type": "markdown",
   "metadata": {
    "deletable": true,
    "editable": true
   },
   "source": [
    "Начально-краевая задача в ограниченной области 0< x < L включает ...."
   ]
  },
  {
   "cell_type": "markdown",
   "metadata": {
    "deletable": true,
    "editable": true
   },
   "source": [
    "# 1. Двухслойная разностная схема"
   ]
  },
  {
   "cell_type": "markdown",
   "metadata": {
    "deletable": true,
    "editable": true
   },
   "source": [
    "*** Параметры ***:"
   ]
  },
  {
   "cell_type": "code",
   "execution_count": 1,
   "metadata": {
    "collapsed": false,
    "deletable": true,
    "editable": true
   },
   "outputs": [],
   "source": [
    "T = 5.0; % Время интегрирования\n",
    "max_X = 3.1415926 / 2.0; % Область пространства\n",
    "min_X = -max_X;\n",
    "precision = 0.01; % Разрешение \n",
    "D = 1; % Коэффициент теплопроводности (a)\n",
    "q = 0.5; % Параметр явная/неявная схема\n",
    "M = round((max_X-min_X)/sqrt(precision)); % Число узлов на сетке (X)\n",
    "h = max_X/M; % Шаг сетки (X)\n",
    "tau = 0.005; % Шаг по времени\n",
    "N = round(T/tau); % Числоузлов сетки по времени"
   ]
  },
  {
   "cell_type": "code",
   "execution_count": 2,
   "metadata": {
    "collapsed": false,
    "deletable": true,
    "editable": true
   },
   "outputs": [],
   "source": [
    "function rval = func(x)\n",
    "rval = 3*x*x;\n",
    "endfunction"
   ]
  },
  {
   "cell_type": "markdown",
   "metadata": {
    "deletable": true,
    "editable": true
   },
   "source": [
    "*** Параболическое числом Куранта ***:"
   ]
  },
  {
   "cell_type": "code",
   "execution_count": 3,
   "metadata": {
    "collapsed": false,
    "deletable": true,
    "editable": true
   },
   "outputs": [
    {
     "name": "stdout",
     "output_type": "stream",
     "text": [
      "sigma =  1.9474\r\n"
     ]
    }
   ],
   "source": [
    "sigma = D*tau/h^2;\n",
    "sigma"
   ]
  },
  {
   "cell_type": "code",
   "execution_count": 4,
   "metadata": {
    "collapsed": false,
    "deletable": true,
    "editable": true
   },
   "outputs": [],
   "source": [
    "xset = -M*h:h:M*h; % координатные значения сетки\n",
    "tset = 0:tau:N*tau; % временные значения сетки"
   ]
  },
  {
   "cell_type": "code",
   "execution_count": 5,
   "metadata": {
    "collapsed": false,
    "deletable": true,
    "editable": true
   },
   "outputs": [],
   "source": [
    "X = []; \n",
    "Y = [];\n",
    "\n",
    "for i = 1:2*M+1\n",
    "    for j = 1:N+1\n",
    "        X(i, j) = xset(i);      \n",
    "    end\n",
    "end\n",
    "\n",
    "for i = 1:2*M+1\n",
    "    for j = 1:N+1\n",
    "        Y(i, j) = tset(j);\n",
    "    end\n",
    "end"
   ]
  },
  {
   "cell_type": "code",
   "execution_count": 6,
   "metadata": {
    "collapsed": false,
    "deletable": true,
    "editable": true
   },
   "outputs": [
    {
     "name": "stdout",
     "output_type": "stream",
     "text": [
      "psol = [](0x0)\r\n"
     ]
    }
   ],
   "source": [
    "psol = []  % точное (аналитическое) решение\n",
    "for ii = 1:2*M+1\n",
    "    for jj = 1:N+1\n",
    "        x = xset(ii);\n",
    "        t = tset(jj);\n",
    "        psol(ii,jj) = t*t*t + exp(-t)*sin(x);\n",
    "    end\n",
    "end"
   ]
  },
  {
   "cell_type": "code",
   "execution_count": 7,
   "metadata": {
    "collapsed": false
   },
   "outputs": [
    {
     "name": "stdout",
     "output_type": "stream",
     "text": [
      "ans =\n",
      "\n",
      "     63   1001\n",
      "\n"
     ]
    }
   ],
   "source": [
    "size(psol)"
   ]
  },
  {
   "cell_type": "code",
   "execution_count": 8,
   "metadata": {
    "collapsed": false,
    "deletable": true,
    "editable": true
   },
   "outputs": [
    {
     "data": {
      "image/svg+xml": [
       "<svg height=\"420px\" viewBox=\"0 0 268 201\" width=\"560px\" xmlns=\"http://www.w3.org/2000/svg\" xmlns:xlink=\"http://www.w3.org/1999/xlink\">\n",
       "\n",
       "<title>Gnuplot</title>\n",
       "<desc>Produced by GNUPLOT 4.6 patchlevel 6 </desc>\n",
       "\n",
       "<g id=\"gnuplot_canvas\">\n",
       "\n",
       "<rect fill=\"none\" height=\"201\" width=\"268\" x=\"0\" y=\"0\"/>\n",
       "<defs>\n",
       "\n",
       "\t<circle id=\"gpDot\" r=\"0.5\" stroke-width=\"0.5\"/>\n",
       "\t<path d=\"M-1,0 h2 M0,-1 v2\" id=\"gpPt0\" stroke=\"currentColor\" stroke-width=\"0.333\"/>\n",
       "\t<path d=\"M-1,-1 L1,1 M1,-1 L-1,1\" id=\"gpPt1\" stroke=\"currentColor\" stroke-width=\"0.333\"/>\n",
       "\t<path d=\"M-1,0 L1,0 M0,-1 L0,1 M-1,-1 L1,1 M-1,1 L1,-1\" id=\"gpPt2\" stroke=\"currentColor\" stroke-width=\"0.333\"/>\n",
       "\t<rect height=\"2\" id=\"gpPt3\" stroke=\"currentColor\" stroke-width=\"0.333\" width=\"2\" x=\"-1\" y=\"-1\"/>\n",
       "\t<rect fill=\"currentColor\" height=\"2\" id=\"gpPt4\" stroke=\"currentColor\" stroke-width=\"0.333\" width=\"2\" x=\"-1\" y=\"-1\"/>\n",
       "\t<circle cx=\"0\" cy=\"0\" id=\"gpPt5\" r=\"1\" stroke=\"currentColor\" stroke-width=\"0.333\"/>\n",
       "\t<use fill=\"currentColor\" id=\"gpPt6\" stroke=\"none\" xlink:href=\"#gpPt5\"/>\n",
       "\t<path d=\"M0,-1.33 L-1.33,0.67 L1.33,0.67 z\" id=\"gpPt7\" stroke=\"currentColor\" stroke-width=\"0.333\"/>\n",
       "\t<use fill=\"currentColor\" id=\"gpPt8\" stroke=\"none\" xlink:href=\"#gpPt7\"/>\n",
       "\t<use id=\"gpPt9\" stroke=\"currentColor\" transform=\"rotate(180)\" xlink:href=\"#gpPt7\"/>\n",
       "\t<use fill=\"currentColor\" id=\"gpPt10\" stroke=\"none\" xlink:href=\"#gpPt9\"/>\n",
       "\t<use id=\"gpPt11\" stroke=\"currentColor\" transform=\"rotate(45)\" xlink:href=\"#gpPt3\"/>\n",
       "\t<use fill=\"currentColor\" id=\"gpPt12\" stroke=\"none\" xlink:href=\"#gpPt11\"/>\n",
       "\t<filter filterUnits=\"objectBoundingBox\" height=\"1\" id=\"greybox\" width=\"1\" x=\"0\" y=\"0\">\n",
       "\t  <feFlood flood-color=\"lightgrey\" flood-opacity=\"1\" result=\"grey\"/>\n",
       "\t  <feComposite in=\"SourceGraphic\" in2=\"grey\" operator=\"atop\"/>\n",
       "\t</filter>\n",
       "</defs>\n",
       "<g style=\"fill:none; color:white; stroke:currentColor; stroke-width:1.00; stroke-linecap:butt; stroke-linejoin:miter\">\n",
       "</g>\n",
       "<g style=\"fill:none; color:black; stroke:currentColor; stroke-width:1.00; stroke-linecap:butt; stroke-linejoin:miter\">\n",
       "\t<g style=\"stroke:none; shape-rendering:crispEdges\">\n",
       "\t\t<polygon fill=\"rgb(255, 255, 255)\" points=\"48.4,163.2 251.8,163.2 251.8,36.2 48.4,36.2 \"/>\n",
       "\t</g>\n",
       "</g>\n",
       "<g style=\"fill:none; color:black; stroke:rgb(255, 255, 255); stroke-width:0.50; stroke-linecap:butt; stroke-linejoin:miter\">\n",
       "\t<path d=\"M48.4,163.2 L56.8,163.2 M251.9,163.2 L243.5,163.2  \" stroke=\"black\"/>\t<g style=\"stroke:none; fill:rgb(0,0,0); font-family:{}; font-size:10.00pt; text-anchor:end\" transform=\"translate(42.8,166.9)\">\n",
       "\t\t<text><tspan>-1</tspan></text>\n",
       "\t</g>\n",
       "\t<path d=\"M48.4,131.4 L56.8,131.4 M251.9,131.4 L243.5,131.4  \" stroke=\"black\"/>\t<g style=\"stroke:none; fill:rgb(0,0,0); font-family:{}; font-size:10.00pt; text-anchor:end\" transform=\"translate(42.8,135.1)\">\n",
       "\t\t<text><tspan>-0.5</tspan></text>\n",
       "\t</g>\n",
       "\t<path d=\"M48.4,99.6 L56.8,99.6 M251.9,99.6 L243.5,99.6  \" stroke=\"black\"/>\t<g style=\"stroke:none; fill:rgb(0,0,0); font-family:{}; font-size:10.00pt; text-anchor:end\" transform=\"translate(42.8,103.3)\">\n",
       "\t\t<text><tspan>0</tspan></text>\n",
       "\t</g>\n",
       "\t<path d=\"M48.4,67.9 L56.8,67.9 M251.9,67.9 L243.5,67.9  \" stroke=\"black\"/>\t<g style=\"stroke:none; fill:rgb(0,0,0); font-family:{}; font-size:10.00pt; text-anchor:end\" transform=\"translate(42.8,71.6)\">\n",
       "\t\t<text><tspan>0.5</tspan></text>\n",
       "\t</g>\n",
       "\t<path d=\"M48.4,36.1 L56.8,36.1 M251.9,36.1 L243.5,36.1  \" stroke=\"black\"/>\t<g style=\"stroke:none; fill:rgb(0,0,0); font-family:{}; font-size:10.00pt; text-anchor:end\" transform=\"translate(42.8,39.8)\">\n",
       "\t\t<text><tspan>1</tspan></text>\n",
       "\t</g>\n",
       "\t<path d=\"M48.4,163.2 L48.4,154.8 M48.4,36.1 L48.4,44.5  \" stroke=\"black\"/>\t<g style=\"stroke:none; fill:rgb(0,0,0); font-family:{}; font-size:10.00pt; text-anchor:middle\" transform=\"translate(48.4,178.9)\">\n",
       "\t\t<text><tspan>-2</tspan></text>\n",
       "\t</g>\n",
       "\t<path d=\"M73.8,163.2 L73.8,154.8 M73.8,36.1 L73.8,44.5  \" stroke=\"black\"/>\t<g style=\"stroke:none; fill:rgb(0,0,0); font-family:{}; font-size:10.00pt; text-anchor:middle\" transform=\"translate(73.8,178.9)\">\n",
       "\t\t<text><tspan>-1.5</tspan></text>\n",
       "\t</g>\n",
       "\t<path d=\"M99.3,163.2 L99.3,154.8 M99.3,36.1 L99.3,44.5  \" stroke=\"black\"/>\t<g style=\"stroke:none; fill:rgb(0,0,0); font-family:{}; font-size:10.00pt; text-anchor:middle\" transform=\"translate(99.3,178.9)\">\n",
       "\t\t<text><tspan>-1</tspan></text>\n",
       "\t</g>\n",
       "\t<path d=\"M124.7,163.2 L124.7,154.8 M124.7,36.1 L124.7,44.5  \" stroke=\"black\"/>\t<g style=\"stroke:none; fill:rgb(0,0,0); font-family:{}; font-size:10.00pt; text-anchor:middle\" transform=\"translate(124.7,178.9)\">\n",
       "\t\t<text><tspan>-0.5</tspan></text>\n",
       "\t</g>\n",
       "\t<path d=\"M150.2,163.2 L150.2,154.8 M150.2,36.1 L150.2,44.5  \" stroke=\"black\"/>\t<g style=\"stroke:none; fill:rgb(0,0,0); font-family:{}; font-size:10.00pt; text-anchor:middle\" transform=\"translate(150.2,178.9)\">\n",
       "\t\t<text><tspan>0</tspan></text>\n",
       "\t</g>\n",
       "\t<path d=\"M175.6,163.2 L175.6,154.8 M175.6,36.1 L175.6,44.5  \" stroke=\"black\"/>\t<g style=\"stroke:none; fill:rgb(0,0,0); font-family:{}; font-size:10.00pt; text-anchor:middle\" transform=\"translate(175.6,178.9)\">\n",
       "\t\t<text><tspan>0.5</tspan></text>\n",
       "\t</g>\n",
       "\t<path d=\"M201.0,163.2 L201.0,154.8 M201.0,36.1 L201.0,44.5  \" stroke=\"black\"/>\t<g style=\"stroke:none; fill:rgb(0,0,0); font-family:{}; font-size:10.00pt; text-anchor:middle\" transform=\"translate(201.0,178.9)\">\n",
       "\t\t<text><tspan>1</tspan></text>\n",
       "\t</g>\n",
       "\t<path d=\"M226.5,163.2 L226.5,154.8 M226.5,36.1 L226.5,44.5  \" stroke=\"black\"/>\t<g style=\"stroke:none; fill:rgb(0,0,0); font-family:{}; font-size:10.00pt; text-anchor:middle\" transform=\"translate(226.5,178.9)\">\n",
       "\t\t<text><tspan>1.5</tspan></text>\n",
       "\t</g>\n",
       "\t<path d=\"M251.9,163.2 L251.9,154.8 M251.9,36.1 L251.9,44.5  \" stroke=\"black\"/>\t<g style=\"stroke:none; fill:rgb(0,0,0); font-family:{}; font-size:10.00pt; text-anchor:middle\" transform=\"translate(251.9,178.9)\">\n",
       "\t\t<text><tspan>2</tspan></text>\n",
       "\t</g>\n",
       "\t<path d=\"M48.4,36.1 L48.4,163.2 L251.9,163.2 L251.9,36.1 L48.4,36.1 Z  \" stroke=\"black\"/>\t<g style=\"stroke:none; fill:rgb(0,0,0); font-family:{}; font-size:10.00pt; text-anchor:middle\" transform=\"translate(12.5,99.7) rotate(-90)\">\n",
       "\t\t<text><tspan>u</tspan></text>\n",
       "\t</g>\n",
       "\t<g style=\"stroke:none; fill:rgb(0,0,0); font-family:{}; font-size:10.00pt; text-anchor:middle\" transform=\"translate(150.1,196.9)\">\n",
       "\t\t<text><tspan>x</tspan></text>\n",
       "\t</g>\n",
       "\t<g style=\"stroke:none; fill:rgb(0,0,0); font-family:{}; font-size:10.00pt; text-anchor:middle\" transform=\"translate(150.1,21.8)\">\n",
       "\t\t<text><tspan>Начальное условие при t=0</tspan></text>\n",
       "\t</g>\n",
       "</g>\n",
       "\t<g id=\"gnuplot_plot_1a\"><title>gnuplot_plot_1a</title>\n",
       "<g style=\"fill:none; color:red; stroke:currentColor; stroke-width:0.50; stroke-linecap:butt; stroke-linejoin:miter\">\n",
       "\t<path d=\"M70.2,163.2 L72.8,163.1 L75.4,162.9 L78.0,162.5 L80.5,161.9 L83.1,161.2 L85.7,160.3 L88.3,159.2    L90.9,158.0 L93.4,156.7 L96.0,155.2 L98.6,153.6 L101.2,151.8 L103.7,149.9 L106.3,147.9 L108.9,145.7    L111.5,143.4 L114.1,141.0 L116.6,138.5 L119.2,136.0 L121.8,133.3 L124.4,130.5 L126.9,127.6 L129.5,124.7    L132.1,121.7 L134.7,118.7 L137.3,115.6 L139.8,112.4 L142.4,109.3 L145.0,106.1 L147.6,102.9 L150.2,99.6    L152.7,96.4 L155.3,93.2 L157.9,90.0 L160.5,86.9 L163.0,83.7 L165.6,80.6 L168.2,77.6 L170.8,74.6    L173.4,71.7 L175.9,68.8 L178.5,66.0 L181.1,63.3 L183.7,60.8 L186.2,58.3 L188.8,55.9 L191.4,53.6    L194.0,51.4 L196.6,49.4 L199.1,47.5 L201.7,45.7 L204.3,44.1 L206.9,42.6 L209.4,41.3 L212.0,40.1    L214.6,39.0 L217.2,38.1 L219.8,37.4 L222.3,36.8 L224.9,36.4 L227.5,36.2 L230.1,36.1  \" stroke=\"rgb(  0,   0, 255)\"/></g>\n",
       "\t</g>\n",
       "<g style=\"fill:none; color:black; stroke:currentColor; stroke-width:0.50; stroke-linecap:butt; stroke-linejoin:miter\">\n",
       "</g>\n",
       "</g>\n",
       "</svg>"
      ],
      "text/plain": [
       "<IPython.core.display.SVG object>"
      ]
     },
     "metadata": {},
     "output_type": "display_data"
    }
   ],
   "source": [
    "figure\n",
    "plot(xset, psol(:,1));\n",
    "title('Начальное условие при t=0');\n",
    "xlabel('x');\n",
    "ylabel('u');"
   ]
  },
  {
   "cell_type": "code",
   "execution_count": 9,
   "metadata": {
    "collapsed": true,
    "deletable": true,
    "editable": true
   },
   "outputs": [],
   "source": [
    "A = [];\n",
    "f = [];\n",
    "A(1, 1) = -3;\n",
    "A(1, 2) = 4;\n",
    "A(1, 3) = -1;\n",
    "A(2*M+1, 2*M+1) = 3;\n",
    "A(2*M+1, 2*M) = -4;\n",
    "A(2*M+1, 2*M-1) = 1;\n",
    "for i = 2:2*M\n",
    "    A(i, i-1) = -sigma*q;\n",
    "    A(i, i) = (1+2*q*sigma);\n",
    "    A(i, i+1) = -sigma*q;\n",
    "end"
   ]
  },
  {
   "cell_type": "code",
   "execution_count": 10,
   "metadata": {
    "collapsed": false
   },
   "outputs": [
    {
     "name": "stdout",
     "output_type": "stream",
     "text": [
      "ans =\n",
      "\n",
      "   63   63\n",
      "\n"
     ]
    }
   ],
   "source": [
    "size(A)"
   ]
  },
  {
   "cell_type": "code",
   "execution_count": 11,
   "metadata": {
    "collapsed": false,
    "deletable": true,
    "editable": true
   },
   "outputs": [],
   "source": [
    "nsol = [];\n",
    "nsol(:, 1) = psol(:, 1); % Начальные условия по времени\n",
    "\n",
    "for i = 1:N\n",
    "    t = tset(i);\n",
    "    f(1) = 0;\n",
    "    f((2*M)+1) = 0;\n",
    "    for j = 2:(2*M)\n",
    "        fnc = func(t);    \n",
    "        f(j) = (1-q)*sigma*(nsol(j-1, i)+nsol(j+1, i)) + (1+2*(q-1)*sigma)*nsol(j, i) + tau*fnc;\n",
    "    end\n",
    "    nsol(:, i+1) = A\\transpose(f);\n",
    "    %figure\n",
    "    %plot(xset, nsol(:, i+1))\n",
    "    %hold on;\n",
    "    %plot(xset, psol(:, i+1));\n",
    "    %Раскомментировать четыре предыдущие строчки  - это задание 15d,\n",
    "    %нарисует очень много графиков сравнения точного и численного решения\n",
    "    %на каждом шаге\n",
    "   \n",
    "end"
   ]
  },
  {
   "cell_type": "code",
   "execution_count": 12,
   "metadata": {
    "collapsed": false
   },
   "outputs": [
    {
     "name": "stdout",
     "output_type": "stream",
     "text": [
      "ans =\n",
      "\n",
      "     63   1001\n",
      "\n",
      "ans =\n",
      "\n",
      "     63   1001\n",
      "\n",
      "ans =\n",
      "\n",
      "     63   1001\n",
      "\n"
     ]
    }
   ],
   "source": [
    "size(X)\n",
    "size(Y)\n",
    "size(psol)"
   ]
  },
  {
   "cell_type": "code",
   "execution_count": null,
   "metadata": {
    "collapsed": false,
    "deletable": true,
    "editable": true
   },
   "outputs": [],
   "source": [
    "figure\n",
    "plot3(X, Y, psol);\n",
    "title('Точное решение');\n",
    "xlabel('x');\n",
    "ylabel('t');\n",
    "zlabel('u');"
   ]
  },
  {
   "cell_type": "code",
   "execution_count": null,
   "metadata": {
    "collapsed": true
   },
   "outputs": [],
   "source": [
    "figure\n",
    "plot3(X, Y, nsol);\n",
    "title('Численное решение');\n",
    "xlabel('x');\n",
    "ylabel('t');\n",
    "zlabel('u');"
   ]
  },
  {
   "cell_type": "code",
   "execution_count": null,
   "metadata": {
    "collapsed": false,
    "deletable": true,
    "editable": true
   },
   "outputs": [],
   "source": [
    "dnorm = [];\n",
    "for i=1:N+1\n",
    "    a = psol(:, i)-nsol(:, i);\n",
    "    dnorm(i) = norm(a, 2);%вторая норма\n",
    "end\n",
    "figure\n",
    "plot(1:N+1, dnorm);\n",
    "title('Эволюция ошибки');\n",
    "xlabel('t');\n",
    "ylabel('Норма разности решения (вторая)');\n",
    "dnorm;"
   ]
  },
  {
   "cell_type": "code",
   "execution_count": null,
   "metadata": {
    "collapsed": true,
    "deletable": true,
    "editable": true
   },
   "outputs": [],
   "source": []
  },
  {
   "cell_type": "markdown",
   "metadata": {
    "deletable": true,
    "editable": true
   },
   "source": [
    "# 2. Метод прямых"
   ]
  },
  {
   "cell_type": "code",
   "execution_count": null,
   "metadata": {
    "collapsed": true,
    "deletable": true,
    "editable": true
   },
   "outputs": [],
   "source": [
    "function du = eq5(t, u)\n",
    "L = 3.14159/2;\n",
    "M = length(u);\n",
    "h = L/(M+1);\n",
    "D = 1;\n",
    "p = D/h^2;\n",
    "du = zeros(M, 1);\n",
    "et = exp(t);\n",
    "fi0 = 4*u(1)/3 - u(2)/3 - 2*h*cosh(t)/3;\n",
    "du(1) = p*(fi0-2*u(1)+u(2)) + et*sin(h);\n",
    "fiL = 4*u(M)/3 - u(M-1)/3;\n",
    "du(M) = p*(u(M-1) - 2*u(M) + fiL) + et*sin(h);\n",
    "for i=2:M-1\n",
    "    x = i*h;\n",
    "    du(i) = p*(u(i-1)-2*u(i)+2*u(i+1)) + et*sin(x);\n",
    "end\n",
    "endfunction"
   ]
  },
  {
   "cell_type": "code",
   "execution_count": null,
   "metadata": {
    "collapsed": true,
    "deletable": true,
    "editable": true
   },
   "outputs": [],
   "source": [
    "pkg load odepkg"
   ]
  },
  {
   "cell_type": "code",
   "execution_count": null,
   "metadata": {
    "collapsed": false,
    "deletable": true,
    "editable": true
   },
   "outputs": [],
   "source": [
    "L = 3.14159/2;\n",
    "h_like = 0.1;\n",
    "M = round(L/h_like);\n",
    "h = L/M;\n",
    "T = 0.1;\n",
    "xset = [];\n",
    "xset = h:h:(M-1)*h;\n",
    "%shape(xset)\n",
    "u0 = transpose(sin(xset));\n",
    "res = ode45(@eq5, [0 T], u0); %Можно убедиться, что явный метод Рунге-Кутта\n",
    "%даёт экспоненциально нарастающую ошибку. Плохо.\n",
    "%res = ode23tb(@eq5, [0 T], u0);\n",
    "psol = [];\n",
    "i = 1;\n",
    "for t=res.x\n",
    "    j = 1;\n",
    "    for x = xset\n",
    "    psol(j, i) = cosh(t)*sin(x);\n",
    "    j = j+1;\n",
    "    end\n",
    "    i = i+1;\n",
    "end\n",
    "res\n",
    "figure\n",
    "plot(xset, u0)\n",
    "hold on;\n",
    "length(res.x)\n",
    "plot(xset, res.y(:, res.x(length(res.x))));\n",
    "title('Начальное и конечное решения');\n",
    "xlabel('x');\n",
    "ylabel('u');\n",
    "dnorm = [];\n",
    "for i=1:length(res.x)\n",
    "    dnorm(i) = norm(res.y(:, i)-psol(:, i));\n",
    "end\n",
    "X = [];\n",
    "Y = [];\n",
    "for i=1:M-1\n",
    "    for j=1:length(res.x)\n",
    "        X(i, j) = res.x(j);\n",
    "        Y(i, j) = xset(i);\n",
    "    end\n",
    "end\n",
    "figure\n",
    "plot3(Y, X, res.y);\n",
    "title('Численное решение');\n",
    "ylabel('x');\n",
    "xlabel('t');\n",
    "zlabel('u');\n",
    "figure\n",
    "plot3(Y, X, psol);\n",
    "title('Точное решение');\n",
    "ylabel('x');\n",
    "xlabel('t');\n",
    "zlabel('u');\n",
    "figure\n",
    "plot(res.x, dnorm);\n",
    "title('Эволюция ошибки');\n",
    "xlabel('t');\n",
    "ylabel('Норма разности решений на каждый момент времени');"
   ]
  },
  {
   "cell_type": "code",
   "execution_count": null,
   "metadata": {
    "collapsed": false,
    "deletable": true,
    "editable": true
   },
   "outputs": [],
   "source": [
    "help lsode"
   ]
  },
  {
   "cell_type": "code",
   "execution_count": null,
   "metadata": {
    "collapsed": true,
    "deletable": true,
    "editable": true
   },
   "outputs": [],
   "source": []
  }
 ],
 "metadata": {
  "kernelspec": {
   "display_name": "Octave",
   "language": "octave",
   "name": "octave"
  },
  "language_info": {
   "codemirror_mode": "Octave",
   "file_extension": ".m",
   "help_links": [
    {
     "text": "MetaKernel Magics",
     "url": "https://github.com/calysto/metakernel/blob/master/metakernel/magics/README.md"
    }
   ],
   "mimetype": "text/x-octave",
   "name": "octave",
   "version": "0.15.3"
  }
 },
 "nbformat": 4,
 "nbformat_minor": 2
}
